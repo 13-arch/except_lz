{
 "cells": [
  {
   "cell_type": "code",
   "execution_count": 1,
   "metadata": {},
   "outputs": [],
   "source": [
    "import pandas as pd\n",
    "import pandas.api.types as ptypes\n",
    "import os\n",
    "\n",
    "class DataFrameStructureError(Exception):\n",
    "    pass\n",
    "\n",
    "class DataTypeError(Exception):\n",
    "    pass\n",
    "\n",
    "class Dataframe:\n",
    "    def __init__(self, filename):\n",
    "        self.filename = filename\n",
    "        try:\n",
    "            self.df = pd.read_csv(self.filename)\n",
    "        except FileNotFoundError:\n",
    "            print(f'Error: файл \"{self.filename}\" не найден.')\n",
    "            raise SystemExit()\n",
    "        except pd.errors.EmptyDataError:\n",
    "            print('Error: файл пуст.')\n",
    "            raise SystemExit()\n",
    "        except pd.errors.ParserError:\n",
    "            print('Error: неверная структура столбцов.')\n",
    "            raise SystemExit()\n",
    "        \n",
    "        if not os.path.exists('var10_copy.csv'):\n",
    "            print('Error: эталонный файл \"var10_copy.csv\" не найден.')\n",
    "            raise SystemExit()\n",
    "\n",
    "        try:\n",
    "            self.column_list_from_file = self.df.columns.to_list()\n",
    "            self.df_original = pd.read_csv('var10_copy.csv')\n",
    "            self.column_list_main = self.df_original.columns.to_list()\n",
    "            \n",
    "            if self.column_list_from_file != self.column_list_main:\n",
    "                raise DataFrameStructureError(\n",
    "                    f'Error: Названия столбцов не совпадают.\\n'\n",
    "                    f'Ожидалось: {self.column_list_main}\\n'\n",
    "                    f'Получено: {self.column_list_from_file}'\n",
    "                )\n",
    "        except DataFrameStructureError as e:\n",
    "            print(e)\n",
    "            raise SystemExit()\n",
    "        \n",
    "        expected_dtypes = self.df_original.dtypes.to_dict()\n",
    "        actual_dtypes = self.df.dtypes.to_dict()\n",
    "\n",
    "        try:\n",
    "            for column in expected_dtypes:\n",
    "                if column in actual_dtypes and not ptypes.is_dtype_equal(actual_dtypes[column], expected_dtypes[column]):\n",
    "                    raise DataTypeError(\n",
    "                        f'Error: В столбце \"{column}\" неверный тип данных: {actual_dtypes[column]}, ожидалось {expected_dtypes[column]}'\n",
    "                    )\n",
    "            print(\"Файл загружен и успешно проверен\")\n",
    "        except DataTypeError as e:\n",
    "            print(e)\n",
    "            raise SystemExit()"
   ]
  },
  {
   "cell_type": "code",
   "execution_count": 4,
   "metadata": {},
   "outputs": [
    {
     "name": "stdout",
     "output_type": "stream",
     "text": [
      "Файл загружен и успешно проверен\n"
     ]
    }
   ],
   "source": [
    "filename = input(\"Введите имя вашего файла: \")\n",
    "df = Dataframe(filename)"
   ]
  }
 ],
 "metadata": {
  "kernelspec": {
   "display_name": "Python 3",
   "language": "python",
   "name": "python3"
  },
  "language_info": {
   "codemirror_mode": {
    "name": "ipython",
    "version": 3
   },
   "file_extension": ".py",
   "mimetype": "text/x-python",
   "name": "python",
   "nbconvert_exporter": "python",
   "pygments_lexer": "ipython3",
   "version": "3.12.3"
  }
 },
 "nbformat": 4,
 "nbformat_minor": 2
}
